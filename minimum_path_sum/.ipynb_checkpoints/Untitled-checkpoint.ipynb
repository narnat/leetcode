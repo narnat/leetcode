{
 "cells": [
  {
   "cell_type": "code",
   "execution_count": null,
   "metadata": {},
   "outputs": [],
   "source": [
    "from pandas import *\n",
    "\n",
    "class Solution:\n",
    "    def minPathSum(self, grid):\n",
    "\n",
    "        print(DataFrame(grid))\n",
    "        for i in range(1, len(grid[0])):\n",
    "            grid[0][i] += grid[0][i - 1]\n",
    "\n",
    "        print(DataFrame(grid))\n",
    "        for i in range(1, len(grid)):\n",
    "            for j in range(1, len(grid[0])):\n",
    "                grid[i][0] += grid[i - 1][0]\n",
    "                print(DataFrame(grid))\n",
    "                grid[i][j] = min(grid[i - 1][j], grid[i][j - 1])\n",
    "                print(DataFrame(grid))\n",
    "                print(\"****************************************\")\n",
    "\n",
    "        return grid[i - 1][j  - 1]\n",
    "\n",
    "if __name__ == '__main__':\n",
    "    minPathSum = Solution().minPathSum\n",
    "\n",
    "    grid = [[1,3,1],[1,5,1],[4,2,1]]\n",
    "    print(minPathSum(grid))"
   ]
  }
 ],
 "metadata": {
  "kernelspec": {
   "display_name": "Python 3",
   "language": "python",
   "name": "python3"
  },
  "language_info": {
   "codemirror_mode": {
    "name": "ipython",
    "version": 3
   },
   "file_extension": ".py",
   "mimetype": "text/x-python",
   "name": "python",
   "nbconvert_exporter": "python",
   "pygments_lexer": "ipython3",
   "version": "3.7.6"
  }
 },
 "nbformat": 4,
 "nbformat_minor": 4
}
